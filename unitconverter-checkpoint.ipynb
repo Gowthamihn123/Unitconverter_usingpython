{
 "cells": [
  {
   "cell_type": "code",
   "execution_count": 8,
   "id": "b8f6e20d",
   "metadata": {},
   "outputs": [
    {
     "name": "stdout",
     "output_type": "stream",
     "text": [
      "Welcome to the Temperature Converter!\n",
      "Select conversion:\n",
      "1. Celsius to Fahrenheit\n",
      "2. Fahrenheit to Celsius\n",
      "Enter your choice (1 or 2): 2\n",
      "Enter the temperature value: 23\n",
      "23.0 Fahrenheit is equal to -5.00 Celsius\n"
     ]
    }
   ],
   "source": [
    "def celsius_to_fahrenheit(celsius):\n",
    "    return (celsius * 9/5) + 32\n",
    "\n",
    "def fahrenheit_to_celsius(fahrenheit):\n",
    "    return (fahrenheit - 32) * 5/9\n",
    "\n",
    "def temperature_converter():\n",
    "    print(\"Welcome to the Temperature Converter!\")\n",
    "    print(\"Select conversion:\")\n",
    "    print(\"1. Celsius to Fahrenheit\")\n",
    "    print(\"2. Fahrenheit to Celsius\")\n",
    "\n",
    "    choice = input(\"Enter your choice (1 or 2): \")\n",
    "\n",
    "    if choice not in ['1', '2']:\n",
    "        print(\"Invalid choice. Please enter 1 or 2.\")\n",
    "        return\n",
    "\n",
    "    value = input(\"Enter the temperature value: \")\n",
    "\n",
    "    try:\n",
    "        temperature = float(value)\n",
    "    except ValueError:\n",
    "        print(\"Invalid input. Please enter a numeric value.\")\n",
    "        return\n",
    "\n",
    "    if choice == '1':\n",
    "        result = celsius_to_fahrenheit(temperature)\n",
    "        print(f\"{temperature} Celsius is equal to {result:.2f} Fahrenheit\")\n",
    "    else:\n",
    "        result = fahrenheit_to_celsius(temperature)\n",
    "        print(f\"{temperature} Fahrenheit is equal to {result:.2f} Celsius\")\n",
    "\n",
    "if __name__ == \"__main__\":\n",
    "    temperature_converter()\n"
   ]
  },
  {
   "cell_type": "code",
   "execution_count": null,
   "id": "efa909a7",
   "metadata": {},
   "outputs": [],
   "source": []
  },
  {
   "cell_type": "code",
   "execution_count": null,
   "id": "de69bc58",
   "metadata": {},
   "outputs": [],
   "source": []
  }
 ],
 "metadata": {
  "kernelspec": {
   "display_name": "Python 3 (ipykernel)",
   "language": "python",
   "name": "python3"
  },
  "language_info": {
   "codemirror_mode": {
    "name": "ipython",
    "version": 3
   },
   "file_extension": ".py",
   "mimetype": "text/x-python",
   "name": "python",
   "nbconvert_exporter": "python",
   "pygments_lexer": "ipython3",
   "version": "3.10.9"
  }
 },
 "nbformat": 4,
 "nbformat_minor": 5
}
